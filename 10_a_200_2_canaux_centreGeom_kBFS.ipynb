{
 "cells": [
  {
   "cell_type": "code",
   "execution_count": 1,
   "id": "bf81c25e",
   "metadata": {},
   "outputs": [
    {
     "data": {
      "text/plain": [
       "['10_a_200.ods',\n",
       " 'csv',\n",
       " 'deuxCanaux',\n",
       " 'excentricites_centreGeom.csv',\n",
       " 'excentricites_kBFS.csv',\n",
       " 'mixte',\n",
       " 'test',\n",
       " 'train',\n",
       " 'validation']"
      ]
     },
     "execution_count": 1,
     "metadata": {},
     "output_type": "execute_result"
    }
   ],
   "source": [
    "import os\n",
    "\n",
    "my_data_dir = '10000_uniforme_10_a_200__centreGeom_kBFS/'\n",
    "os.listdir(my_data_dir) \n"
   ]
  },
  {
   "cell_type": "code",
   "execution_count": 2,
   "id": "f8407687",
   "metadata": {},
   "outputs": [
    {
     "data": {
      "text/plain": [
       "['centreGeom', 'kBFS']"
      ]
     },
     "execution_count": 2,
     "metadata": {},
     "output_type": "execute_result"
    }
   ],
   "source": [
    "train_dir = my_data_dir+'deuxCanaux/train/'\n",
    "validation_dir = my_data_dir+'deuxCanaux/validation/'\n",
    "os.listdir(train_dir)"
   ]
  },
  {
   "cell_type": "code",
   "execution_count": 3,
   "id": "1f75c131",
   "metadata": {},
   "outputs": [
    {
     "data": {
      "text/plain": [
       "['centreGeom', 'kBFS']"
      ]
     },
     "execution_count": 3,
     "metadata": {},
     "output_type": "execute_result"
    }
   ],
   "source": [
    "os.listdir(validation_dir)"
   ]
  },
  {
   "cell_type": "code",
   "execution_count": 3,
   "id": "516533b1",
   "metadata": {},
   "outputs": [
    {
     "data": {
      "text/plain": [
       "'essai0_10.png'"
      ]
     },
     "execution_count": 3,
     "metadata": {},
     "output_type": "execute_result"
    }
   ],
   "source": [
    "os.listdir(train_dir+'centreGeom')[1]"
   ]
  },
  {
   "cell_type": "code",
   "execution_count": 4,
   "id": "21d1d8f5",
   "metadata": {},
   "outputs": [
    {
     "data": {
      "text/plain": [
       "array([[[0., 0., 0.],\n",
       "        [0., 0., 0.],\n",
       "        [0., 0., 0.],\n",
       "        ...,\n",
       "        [0., 0., 0.],\n",
       "        [0., 0., 0.],\n",
       "        [0., 0., 0.]],\n",
       "\n",
       "       [[0., 0., 0.],\n",
       "        [0., 0., 0.],\n",
       "        [0., 0., 0.],\n",
       "        ...,\n",
       "        [0., 0., 0.],\n",
       "        [0., 0., 0.],\n",
       "        [0., 0., 0.]],\n",
       "\n",
       "       [[0., 0., 0.],\n",
       "        [0., 0., 0.],\n",
       "        [0., 0., 0.],\n",
       "        ...,\n",
       "        [0., 0., 0.],\n",
       "        [0., 0., 0.],\n",
       "        [0., 0., 0.]],\n",
       "\n",
       "       ...,\n",
       "\n",
       "       [[0., 0., 0.],\n",
       "        [0., 0., 0.],\n",
       "        [0., 0., 0.],\n",
       "        ...,\n",
       "        [0., 0., 0.],\n",
       "        [0., 0., 0.],\n",
       "        [0., 0., 0.]],\n",
       "\n",
       "       [[0., 0., 0.],\n",
       "        [0., 0., 0.],\n",
       "        [0., 0., 0.],\n",
       "        ...,\n",
       "        [0., 0., 0.],\n",
       "        [0., 0., 0.],\n",
       "        [0., 0., 0.]],\n",
       "\n",
       "       [[0., 0., 0.],\n",
       "        [0., 0., 0.],\n",
       "        [0., 0., 0.],\n",
       "        ...,\n",
       "        [0., 0., 0.],\n",
       "        [0., 0., 0.],\n",
       "        [0., 0., 0.]]], dtype=float32)"
      ]
     },
     "execution_count": 4,
     "metadata": {},
     "output_type": "execute_result"
    }
   ],
   "source": [
    "from matplotlib.image import imread\n",
    "\n",
    "im1 = train_dir+'centreGeom/essai0_10.png'\n",
    "imread(im1)\n"
   ]
  },
  {
   "cell_type": "code",
   "execution_count": 5,
   "id": "156a6424",
   "metadata": {},
   "outputs": [
    {
     "data": {
      "text/plain": [
       "<matplotlib.image.AxesImage at 0x2e8ab99f940>"
      ]
     },
     "execution_count": 5,
     "metadata": {},
     "output_type": "execute_result"
    },
    {
     "data": {
      "image/png": "[encoded data removed]",
      "text/plain": [
       "<Figure size 640x480 with 1 Axes>"
      ]
     },
     "metadata": {},
     "output_type": "display_data"
    }
   ],
   "source": [
    "import matplotlib.pyplot as plt\n",
    "\n",
    "tabIm1=imread(im1)\n",
    "plt.imshow(tabIm1)"
   ]
  },
  {
   "cell_type": "code",
   "execution_count": 7,
   "id": "b1ff41ce",
   "metadata": {},
   "outputs": [
    {
     "data": {
      "text/plain": [
       "(510, 510, 3)"
      ]
     },
     "execution_count": 7,
     "metadata": {},
     "output_type": "execute_result"
    }
   ],
   "source": [
    "tabIm1.shape"
   ]
  },
  {
   "cell_type": "code",
   "execution_count": 6,
   "id": "bb503810",
   "metadata": {},
   "outputs": [
    {
     "name": "stdout",
     "output_type": "stream",
     "text": [
      "Model: \"sequential\"\n",
      "_________________________________________________________________\n",
      " Layer (type)                Output Shape              Param #   \n",
      "=================================================================\n",
      " conv2d (Conv2D)             (None, 112, 112, 64)      9408      \n",
      "                                                                 \n",
      " batch_normalization (BatchN  (None, 112, 112, 64)     256       \n",
      " ormalization)                                                   \n",
      "                                                                 \n",
      " activation (Activation)     (None, 112, 112, 64)      0         \n",
      "                                                                 \n",
      " max_pooling2d (MaxPooling2D  (None, 56, 56, 64)       0         \n",
      " )                                                               \n",
      "                                                                 \n",
      " residual_unit (ResidualUnit  (None, 56, 56, 64)       74240     \n",
      " )                                                               \n",
      "                                                                 \n",
      " residual_unit_1 (ResidualUn  (None, 56, 56, 64)       74240     \n",
      " it)                                                             \n",
      "                                                                 \n",
      " residual_unit_2 (ResidualUn  (None, 56, 56, 64)       74240     \n",
      " it)                                                             \n",
      "                                                                 \n",
      " residual_unit_3 (ResidualUn  (None, 28, 28, 128)      230912    \n",
      " it)                                                             \n",
      "                                                                 \n",
      " residual_unit_4 (ResidualUn  (None, 28, 28, 128)      295936    \n",
      " it)                                                             \n",
      "                                                                 \n",
      " residual_unit_5 (ResidualUn  (None, 28, 28, 128)      295936    \n",
      " it)                                                             \n",
      "                                                                 \n",
      " residual_unit_6 (ResidualUn  (None, 28, 28, 128)      295936    \n",
      " it)                                                             \n",
      "                                                                 \n",
      " residual_unit_7 (ResidualUn  (None, 14, 14, 256)      920576    \n",
      " it)                                                             \n",
      "                                                                 \n",
      " residual_unit_8 (ResidualUn  (None, 14, 14, 256)      1181696   \n",
      " it)                                                             \n",
      "                                                                 \n",
      " residual_unit_9 (ResidualUn  (None, 14, 14, 256)      1181696   \n",
      " it)                                                             \n",
      "                                                                 \n",
      " residual_unit_10 (ResidualU  (None, 14, 14, 256)      1181696   \n",
      " nit)                                                            \n",
      "                                                                 \n",
      " residual_unit_11 (ResidualU  (None, 14, 14, 256)      1181696   \n",
      " nit)                                                            \n",
      "                                                                 \n",
      " residual_unit_12 (ResidualU  (None, 14, 14, 256)      1181696   \n",
      " nit)                                                            \n",
      "                                                                 \n",
      " residual_unit_13 (ResidualU  (None, 7, 7, 512)        3676160   \n",
      " nit)                                                            \n",
      "                                                                 \n",
      " residual_unit_14 (ResidualU  (None, 7, 7, 512)        4722688   \n",
      " nit)                                                            \n",
      "                                                                 \n",
      " residual_unit_15 (ResidualU  (None, 7, 7, 512)        4722688   \n",
      " nit)                                                            \n",
      "                                                                 \n",
      " global_average_pooling2d (G  (None, 512)              0         \n",
      " lobalAveragePooling2D)                                          \n",
      "                                                                 \n",
      " flatten (Flatten)           (None, 512)               0         \n",
      "                                                                 \n",
      " dense (Dense)               (None, 1)                 513       \n",
      "                                                                 \n",
      "=================================================================\n",
      "Total params: 21,302,209\n",
      "Trainable params: 21,285,185\n",
      "Non-trainable params: 17,024\n",
      "_________________________________________________________________\n"
     ]
    }
   ],
   "source": [
    "###ResNet 34\n",
    "from functools import partial\n",
    "import tensorflow as tf \n",
    "\n",
    "DefaultConv2D = partial(tf.keras.layers.Conv2D, kernel_size=3, strides=1,\n",
    "                        padding=\"same\", kernel_initializer=\"he_normal\",\n",
    "                        use_bias=False)\n",
    "\n",
    "class ResidualUnit(tf.keras.layers.Layer):\n",
    "    def __init__(self, filters, strides=1, activation=\"relu\", **kwargs):\n",
    "        super().__init__(**kwargs)\n",
    "        self.activation = tf.keras.activations.get(activation)\n",
    "        self.main_layers = [\n",
    "            DefaultConv2D(filters, strides=strides),\n",
    "            tf.keras.layers.BatchNormalization(),\n",
    "            self.activation,\n",
    "            DefaultConv2D(filters),\n",
    "            tf.keras.layers.BatchNormalization()\n",
    "        ]\n",
    "        self.skip_layers = []\n",
    "        if strides > 1:\n",
    "            self.skip_layers = [\n",
    "                DefaultConv2D(filters, kernel_size=1, strides=strides),\n",
    "                tf.keras.layers.BatchNormalization()\n",
    "            ]\n",
    "            \n",
    "    def get_config(self):\n",
    "\n",
    "        config = super().get_config().copy()\n",
    "        config.update({\n",
    "            'activation': self.activation,\n",
    "            'main_layers': self.main_layers,\n",
    "            'skip_layers': self.skip_layers\n",
    "        })\n",
    "        return config\n",
    "\n",
    "    def call(self, inputs):\n",
    "        Z = inputs\n",
    "        for layer in self.main_layers:\n",
    "            Z = layer(Z)\n",
    "        skip_Z = inputs\n",
    "        for layer in self.skip_layers:\n",
    "            skip_Z = layer(skip_Z)\n",
    "        return self.activation(Z + skip_Z)\n",
    "    \n",
    "    \n",
    "model = tf.keras.Sequential([\n",
    "    DefaultConv2D(64, kernel_size=7, strides=2, input_shape=[224, 224, 3]),\n",
    "    tf.keras.layers.BatchNormalization(),\n",
    "    tf.keras.layers.Activation(\"relu\"),\n",
    "    tf.keras.layers.MaxPool2D(pool_size=3, strides=2, padding=\"same\"),\n",
    "])\n",
    "prev_filters = 64\n",
    "for filters in [64] * 3 + [128] * 4 + [256] * 6 + [512] * 3:\n",
    "    strides = 1 if filters == prev_filters else 2\n",
    "    model.add(ResidualUnit(filters, strides=strides))\n",
    "    prev_filters = filters\n",
    "\n",
    "model.add(tf.keras.layers.GlobalAvgPool2D())\n",
    "model.add(tf.keras.layers.Flatten())\n",
    "model.add(tf.keras.layers.Dense(1, activation=\"sigmoid\"))\n",
    "\n",
    "model.summary()"
   ]
  },
  {
   "cell_type": "code",
   "execution_count": 7,
   "id": "a7e1dedf",
   "metadata": {},
   "outputs": [],
   "source": [
    "from keras import optimizers\n",
    "\n",
    "model.compile(loss='binary_crossentropy', optimizer=optimizers.RMSprop(learning_rate=1e-4), metrics=['acc'])"
   ]
  },
  {
   "cell_type": "code",
   "execution_count": 8,
   "id": "9f125b1a",
   "metadata": {},
   "outputs": [
    {
     "name": "stdout",
     "output_type": "stream",
     "text": [
      "Found 10000 images belonging to 2 classes.\n",
      "Found 2500 images belonging to 2 classes.\n"
     ]
    }
   ],
   "source": [
    "from keras.preprocessing.image import ImageDataGenerator\n",
    "\n",
    "train_datagen = ImageDataGenerator(rotation_range=80)\n",
    "validation_datagen = ImageDataGenerator()\n",
    "\n",
    "train_generator = train_datagen.flow_from_directory(\n",
    "    train_dir,\n",
    "    target_size=(224,224),\n",
    "#    target_size=(510,510),\n",
    "    batch_size=16,\n",
    "    class_mode='binary')\n",
    "validation_generator = validation_datagen.flow_from_directory(\n",
    "    validation_dir,\n",
    "    target_size=(224,224),\n",
    "#    target_size=(510,510),\n",
    "    batch_size=16,\n",
    "    class_mode='binary')\n",
    "\n",
    "#    color_mode='grayscale',"
   ]
  },
  {
   "cell_type": "code",
   "execution_count": 9,
   "id": "5c959a9e",
   "metadata": {},
   "outputs": [
    {
     "name": "stdout",
     "output_type": "stream",
     "text": [
      "Epoch 1/20\n",
      "625/625 - 798s - loss: 0.5889 - acc: 0.7185 - val_loss: 0.5929 - val_acc: 0.7112 - 798s/epoch - 1s/step\n",
      "Epoch 2/20\n",
      "625/625 - 797s - loss: 0.5475 - acc: 0.7458 - val_loss: 0.8547 - val_acc: 0.5804 - 797s/epoch - 1s/step\n",
      "Epoch 3/20\n",
      "625/625 - 830s - loss: 0.5152 - acc: 0.7674 - val_loss: 1.2349 - val_acc: 0.5340 - 830s/epoch - 1s/step\n",
      "Epoch 4/20\n",
      "625/625 - 825s - loss: 0.5004 - acc: 0.7713 - val_loss: 0.5251 - val_acc: 0.7400 - 825s/epoch - 1s/step\n",
      "Epoch 5/20\n",
      "625/625 - 830s - loss: 0.4878 - acc: 0.7850 - val_loss: 0.4722 - val_acc: 0.7836 - 830s/epoch - 1s/step\n",
      "Epoch 6/20\n",
      "625/625 - 819s - loss: 0.4832 - acc: 0.7804 - val_loss: 0.4730 - val_acc: 0.7860 - 819s/epoch - 1s/step\n",
      "Epoch 7/20\n",
      "625/625 - 819s - loss: 0.4775 - acc: 0.7919 - val_loss: 0.4422 - val_acc: 0.7996 - 819s/epoch - 1s/step\n",
      "Epoch 8/20\n",
      "625/625 - 806s - loss: 0.4663 - acc: 0.7899 - val_loss: 0.4284 - val_acc: 0.8180 - 806s/epoch - 1s/step\n",
      "Epoch 9/20\n",
      "625/625 - 784s - loss: 0.4688 - acc: 0.7911 - val_loss: 0.4355 - val_acc: 0.8064 - 784s/epoch - 1s/step\n",
      "Epoch 10/20\n",
      "625/625 - 795s - loss: 0.4635 - acc: 0.7931 - val_loss: 0.4357 - val_acc: 0.8044 - 795s/epoch - 1s/step\n",
      "Epoch 11/20\n",
      "625/625 - 801s - loss: 0.4562 - acc: 0.7988 - val_loss: 0.5368 - val_acc: 0.7544 - 801s/epoch - 1s/step\n",
      "Epoch 12/20\n",
      "625/625 - 821s - loss: 0.4569 - acc: 0.7993 - val_loss: 0.4310 - val_acc: 0.8080 - 821s/epoch - 1s/step\n",
      "Epoch 13/20\n",
      "625/625 - 812s - loss: 0.4518 - acc: 0.7993 - val_loss: 0.4705 - val_acc: 0.7880 - 812s/epoch - 1s/step\n",
      "Epoch 14/20\n",
      "625/625 - 814s - loss: 0.4512 - acc: 0.8013 - val_loss: 0.4164 - val_acc: 0.8292 - 814s/epoch - 1s/step\n",
      "Epoch 15/20\n",
      "625/625 - 817s - loss: 0.4475 - acc: 0.8008 - val_loss: 0.4468 - val_acc: 0.7900 - 817s/epoch - 1s/step\n",
      "Epoch 16/20\n",
      "625/625 - 806s - loss: 0.4441 - acc: 0.8042 - val_loss: 0.4186 - val_acc: 0.8100 - 806s/epoch - 1s/step\n",
      "Epoch 17/20\n",
      "625/625 - 800s - loss: 0.4440 - acc: 0.8031 - val_loss: 0.4106 - val_acc: 0.8244 - 800s/epoch - 1s/step\n",
      "Epoch 18/20\n",
      "625/625 - 805s - loss: 0.4406 - acc: 0.8049 - val_loss: 0.3963 - val_acc: 0.8356 - 805s/epoch - 1s/step\n",
      "Epoch 19/20\n",
      "625/625 - 798s - loss: 0.4416 - acc: 0.8065 - val_loss: 0.4131 - val_acc: 0.8128 - 798s/epoch - 1s/step\n",
      "Epoch 20/20\n",
      "625/625 - 797s - loss: 0.4373 - acc: 0.8094 - val_loss: 0.3953 - val_acc: 0.8256 - 797s/epoch - 1s/step\n"
     ]
    }
   ],
   "source": [
    "results = model.fit(train_generator,\n",
    "                    epochs=20,\n",
    "                    validation_data=validation_generator, verbose=2)#, callbacks=[early_stop]"
   ]
  },
  {
   "cell_type": "code",
   "execution_count": 10,
   "id": "2f23ece9",
   "metadata": {},
   "outputs": [],
   "source": [
    "#Sauvegarde\n",
    "from tensorflow.keras.models import load_model\n",
    "model.save('10000_images_10a200_deuxCanaux_ResNet34_20_epochs.h5')"
   ]
  },
  {
   "cell_type": "code",
   "execution_count": null,
   "id": "e76eece7",
   "metadata": {},
   "outputs": [],
   "source": []
  },
  {
   "cell_type": "markdown",
   "id": "a3d235d3",
   "metadata": {},
   "source": [
    "## Evaluation du modèle"
   ]
  },
  {
   "cell_type": "code",
   "execution_count": 11,
   "id": "21a3124a",
   "metadata": {},
   "outputs": [
    {
     "data": {
      "image/png": "[encoded data removed]",
      "text/plain": [
       "<Figure size 640x480 with 1 Axes>"
      ]
     },
     "metadata": {},
     "output_type": "display_data"
    },
    {
     "data": {
      "image/png": "[encoded data removed]",
      "text/plain": [
       "<Figure size 640x480 with 1 Axes>"
      ]
     },
     "metadata": {},
     "output_type": "display_data"
    }
   ],
   "source": [
    "import matplotlib.pyplot as plt\n",
    "accuracy = results.history[\"acc\"]\n",
    "val_accuracy = results.history[\"val_acc\"]\n",
    "loss = results.history[\"loss\"]\n",
    "val_loss = results.history[\"val_loss\"]\n",
    "epochs = range(1, len(accuracy) + 1)\n",
    "plt.plot(epochs, accuracy, \"bo\", label=\"Entraînement\")\n",
    "plt.plot(epochs, val_accuracy, \"b\", label=\"Validation\")\n",
    "plt.title(\"Exactitude pendant l'entraînement et la validation\")\n",
    "plt.legend()\n",
    "plt.figure()\n",
    "plt.plot(epochs, loss, \"bo\", label=\"Entraînement\")\n",
    "plt.plot(epochs, val_loss, \"b\", label=\"Validation\")\n",
    "plt.title(\"Perte pendant l'entraînement et la validation\")\n",
    "plt.legend()\n",
    "plt.show()"
   ]
  },
  {
   "cell_type": "code",
   "execution_count": 14,
   "id": "ce054803",
   "metadata": {},
   "outputs": [
    {
     "name": "stdout",
     "output_type": "stream",
     "text": [
      "Found 2500 images belonging to 2 classes.\n"
     ]
    }
   ],
   "source": [
    "test_dir = my_data_dir+'deuxCanaux/test/'\n",
    "\n",
    "test_generator = validation_datagen.flow_from_directory(\n",
    "    test_dir,\n",
    "    target_size=(224,224),\n",
    "    batch_size=16,\n",
    "    class_mode='binary')"
   ]
  },
  {
   "cell_type": "code",
   "execution_count": 15,
   "id": "b265375e",
   "metadata": {},
   "outputs": [
    {
     "name": "stdout",
     "output_type": "stream",
     "text": [
      "157/157 [==============================] - 49s 311ms/step - loss: 0.4049 - acc: 0.8176\n"
     ]
    },
    {
     "data": {
      "text/plain": [
       "[0.4049091637134552, 0.8176000118255615]"
      ]
     },
     "execution_count": 15,
     "metadata": {},
     "output_type": "execute_result"
    }
   ],
   "source": [
    "model.evaluate(test_generator)"
   ]
  },
  {
   "cell_type": "code",
   "execution_count": 17,
   "id": "29e00fc4",
   "metadata": {
    "scrolled": true
   },
   "outputs": [
    {
     "name": "stdout",
     "output_type": "stream",
     "text": [
      "157/157 [==============================] - 54s 341ms/step\n"
     ]
    }
   ],
   "source": [
    "res = model.predict(test_generator)\n",
    "probas = [k[0] for k in res]\n",
    "\n"
   ]
  },
  {
   "cell_type": "code",
   "execution_count": 19,
   "id": "32af604b",
   "metadata": {},
   "outputs": [
    {
     "data": {
      "text/plain": [
       "0.37699846668019893"
      ]
     },
     "execution_count": 19,
     "metadata": {},
     "output_type": "execute_result"
    }
   ],
   "source": [
    "sum(probas)/len(probas)"
   ]
  }
 ],
 "metadata": {
  "kernelspec": {
   "display_name": "Python 3 (ipykernel)",
   "language": "python",
   "name": "python3"
  },
  "language_info": {
   "codemirror_mode": {
    "name": "ipython",
    "version": 3
   },
   "file_extension": ".py",
   "mimetype": "text/x-python",
   "name": "python",
   "nbconvert_exporter": "python",
   "pygments_lexer": "ipython3",
   "version": "3.10.10"
  }
 },
 "nbformat": 4,
 "nbformat_minor": 5
}
